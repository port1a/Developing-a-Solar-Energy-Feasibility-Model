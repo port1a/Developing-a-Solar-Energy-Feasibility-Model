{
 "cells": [
  {
   "cell_type": "code",
   "execution_count": 49,
   "metadata": {},
   "outputs": [],
   "source": [
    "# import libraries\n",
    "import seaborn as sns\n",
    "import pandas as pd\n",
    "import matplotlib.pyplot as plt"
   ]
  },
  {
   "cell_type": "code",
   "execution_count": 50,
   "metadata": {},
   "outputs": [
    {
     "data": {
      "text/html": [
       "<div>\n",
       "<style scoped>\n",
       "    .dataframe tbody tr th:only-of-type {\n",
       "        vertical-align: middle;\n",
       "    }\n",
       "\n",
       "    .dataframe tbody tr th {\n",
       "        vertical-align: top;\n",
       "    }\n",
       "\n",
       "    .dataframe thead th {\n",
       "        text-align: right;\n",
       "    }\n",
       "</style>\n",
       "<table border=\"1\" class=\"dataframe\">\n",
       "  <thead>\n",
       "    <tr style=\"text-align: right;\">\n",
       "      <th></th>\n",
       "      <th>Hour</th>\n",
       "      <th>Date/hour start</th>\n",
       "      <th>Solar electricity generation (kWh)</th>\n",
       "      <th>Electricity usage (kWh)</th>\n",
       "    </tr>\n",
       "  </thead>\n",
       "  <tbody>\n",
       "    <tr>\n",
       "      <th>0</th>\n",
       "      <td>0</td>\n",
       "      <td>2020-01-01 00:00:00</td>\n",
       "      <td>0.0</td>\n",
       "      <td>1.509849</td>\n",
       "    </tr>\n",
       "    <tr>\n",
       "      <th>1</th>\n",
       "      <td>1</td>\n",
       "      <td>2020-01-01 01:00:00</td>\n",
       "      <td>0.0</td>\n",
       "      <td>1.411859</td>\n",
       "    </tr>\n",
       "    <tr>\n",
       "      <th>2</th>\n",
       "      <td>2</td>\n",
       "      <td>2020-01-01 02:00:00</td>\n",
       "      <td>0.0</td>\n",
       "      <td>1.023898</td>\n",
       "    </tr>\n",
       "    <tr>\n",
       "      <th>3</th>\n",
       "      <td>3</td>\n",
       "      <td>2020-01-01 03:00:00</td>\n",
       "      <td>0.0</td>\n",
       "      <td>0.642000</td>\n",
       "    </tr>\n",
       "    <tr>\n",
       "      <th>4</th>\n",
       "      <td>4</td>\n",
       "      <td>2020-01-01 04:00:00</td>\n",
       "      <td>0.0</td>\n",
       "      <td>0.960000</td>\n",
       "    </tr>\n",
       "  </tbody>\n",
       "</table>\n",
       "</div>"
      ],
      "text/plain": [
       "   Hour     Date/hour start  Solar electricity generation (kWh)  \\\n",
       "0     0 2020-01-01 00:00:00                                 0.0   \n",
       "1     1 2020-01-01 01:00:00                                 0.0   \n",
       "2     2 2020-01-01 02:00:00                                 0.0   \n",
       "3     3 2020-01-01 03:00:00                                 0.0   \n",
       "4     4 2020-01-01 04:00:00                                 0.0   \n",
       "\n",
       "   Electricity usage (kWh)  \n",
       "0                 1.509849  \n",
       "1                 1.411859  \n",
       "2                 1.023898  \n",
       "3                 0.642000  \n",
       "4                 0.960000  "
      ]
     },
     "execution_count": 50,
     "metadata": {},
     "output_type": "execute_result"
    }
   ],
   "source": [
    "# import data\n",
    "\n",
    "df = pd.read_excel('Junior Data Analyst _ Data.xlsx', header = 2)\n",
    "df.head()"
   ]
  },
  {
   "cell_type": "code",
   "execution_count": 51,
   "metadata": {},
   "outputs": [
    {
     "data": {
      "text/html": [
       "<div>\n",
       "<style scoped>\n",
       "    .dataframe tbody tr th:only-of-type {\n",
       "        vertical-align: middle;\n",
       "    }\n",
       "\n",
       "    .dataframe tbody tr th {\n",
       "        vertical-align: top;\n",
       "    }\n",
       "\n",
       "    .dataframe thead th {\n",
       "        text-align: right;\n",
       "    }\n",
       "</style>\n",
       "<table border=\"1\" class=\"dataframe\">\n",
       "  <thead>\n",
       "    <tr style=\"text-align: right;\">\n",
       "      <th></th>\n",
       "      <th>count</th>\n",
       "      <th>mean</th>\n",
       "      <th>min</th>\n",
       "      <th>25%</th>\n",
       "      <th>50%</th>\n",
       "      <th>75%</th>\n",
       "      <th>max</th>\n",
       "      <th>std</th>\n",
       "    </tr>\n",
       "  </thead>\n",
       "  <tbody>\n",
       "    <tr>\n",
       "      <th>Hour</th>\n",
       "      <td>8760.0</td>\n",
       "      <td>11.5</td>\n",
       "      <td>0.0</td>\n",
       "      <td>5.75</td>\n",
       "      <td>11.5</td>\n",
       "      <td>17.25</td>\n",
       "      <td>23.0</td>\n",
       "      <td>6.922582</td>\n",
       "    </tr>\n",
       "    <tr>\n",
       "      <th>Date/hour start</th>\n",
       "      <td>8760</td>\n",
       "      <td>2020-07-02 07:37:13.972602624</td>\n",
       "      <td>2020-01-01 00:00:00</td>\n",
       "      <td>2020-04-02 05:45:00</td>\n",
       "      <td>2020-07-02 11:30:00</td>\n",
       "      <td>2020-10-01 17:15:00</td>\n",
       "      <td>2020-12-31 23:00:00</td>\n",
       "      <td>NaN</td>\n",
       "    </tr>\n",
       "    <tr>\n",
       "      <th>Solar electricity generation (kWh)</th>\n",
       "      <td>8760.0</td>\n",
       "      <td>1.11675</td>\n",
       "      <td>0.0</td>\n",
       "      <td>0.0</td>\n",
       "      <td>0.024</td>\n",
       "      <td>1.27275</td>\n",
       "      <td>13.05</td>\n",
       "      <td>2.026098</td>\n",
       "    </tr>\n",
       "    <tr>\n",
       "      <th>Electricity usage (kWh)</th>\n",
       "      <td>8760.0</td>\n",
       "      <td>7.312704</td>\n",
       "      <td>-12.624</td>\n",
       "      <td>0.3</td>\n",
       "      <td>0.621</td>\n",
       "      <td>1.686</td>\n",
       "      <td>46000.0</td>\n",
       "      <td>491.479806</td>\n",
       "    </tr>\n",
       "  </tbody>\n",
       "</table>\n",
       "</div>"
      ],
      "text/plain": [
       "                                     count                           mean  \\\n",
       "Hour                                8760.0                           11.5   \n",
       "Date/hour start                       8760  2020-07-02 07:37:13.972602624   \n",
       "Solar electricity generation (kWh)  8760.0                        1.11675   \n",
       "Electricity usage (kWh)             8760.0                       7.312704   \n",
       "\n",
       "                                                    min                  25%  \\\n",
       "Hour                                                0.0                 5.75   \n",
       "Date/hour start                     2020-01-01 00:00:00  2020-04-02 05:45:00   \n",
       "Solar electricity generation (kWh)                  0.0                  0.0   \n",
       "Electricity usage (kWh)                         -12.624                  0.3   \n",
       "\n",
       "                                                    50%                  75%  \\\n",
       "Hour                                               11.5                17.25   \n",
       "Date/hour start                     2020-07-02 11:30:00  2020-10-01 17:15:00   \n",
       "Solar electricity generation (kWh)                0.024              1.27275   \n",
       "Electricity usage (kWh)                           0.621                1.686   \n",
       "\n",
       "                                                    max         std  \n",
       "Hour                                               23.0    6.922582  \n",
       "Date/hour start                     2020-12-31 23:00:00         NaN  \n",
       "Solar electricity generation (kWh)                13.05    2.026098  \n",
       "Electricity usage (kWh)                         46000.0  491.479806  "
      ]
     },
     "execution_count": 51,
     "metadata": {},
     "output_type": "execute_result"
    }
   ],
   "source": [
    "df.describe().T"
   ]
  },
  {
   "cell_type": "code",
   "execution_count": 52,
   "metadata": {},
   "outputs": [
    {
     "name": "stdout",
     "output_type": "stream",
     "text": [
      "<class 'pandas.core.frame.DataFrame'>\n",
      "RangeIndex: 8760 entries, 0 to 8759\n",
      "Data columns (total 4 columns):\n",
      " #   Column                              Non-Null Count  Dtype         \n",
      "---  ------                              --------------  -----         \n",
      " 0   Hour                                8760 non-null   int64         \n",
      " 1   Date/hour start                     8760 non-null   datetime64[ns]\n",
      " 2   Solar electricity generation (kWh)  8760 non-null   float64       \n",
      " 3   Electricity usage (kWh)             8760 non-null   float64       \n",
      "dtypes: datetime64[ns](1), float64(2), int64(1)\n",
      "memory usage: 273.9 KB\n"
     ]
    }
   ],
   "source": [
    "df.info()"
   ]
  },
  {
   "cell_type": "code",
   "execution_count": 53,
   "metadata": {},
   "outputs": [
    {
     "data": {
      "text/plain": [
       "np.int64(0)"
      ]
     },
     "execution_count": 53,
     "metadata": {},
     "output_type": "execute_result"
    }
   ],
   "source": [
    "# Checking data for outliers and duplicates\n",
    "df.duplicated().sum()"
   ]
  },
  {
   "cell_type": "code",
   "execution_count": 54,
   "metadata": {},
   "outputs": [
    {
     "data": {
      "text/plain": [
       "<Axes: xlabel='Hour', ylabel='Solar electricity generation (kWh)'>"
      ]
     },
     "execution_count": 54,
     "metadata": {},
     "output_type": "execute_result"
    },
    {
     "data": {
      "image/png": "[encoded data removed]",
      "text/plain": [
       "<Figure size 640x480 with 1 Axes>"
      ]
     },
     "metadata": {},
     "output_type": "display_data"
    }
   ],
   "source": [
    "# Plotting the average solar electricity generated per hour\n",
    "import seaborn as sns\n",
    "hourly_solar = df.groupby('Hour')['Solar electricity generation (kWh)'].mean()\n",
    "sns.barplot(hourly_solar)"
   ]
  },
  {
   "cell_type": "markdown",
   "metadata": {},
   "source": [
    "It seems unlikely to have sunlight at 1 AM in the morning. Let us investigate this further."
   ]
  },
  {
   "cell_type": "code",
   "execution_count": 55,
   "metadata": {},
   "outputs": [
    {
     "data": {
      "text/html": [
       "<div>\n",
       "<style scoped>\n",
       "    .dataframe tbody tr th:only-of-type {\n",
       "        vertical-align: middle;\n",
       "    }\n",
       "\n",
       "    .dataframe tbody tr th {\n",
       "        vertical-align: top;\n",
       "    }\n",
       "\n",
       "    .dataframe thead th {\n",
       "        text-align: right;\n",
       "    }\n",
       "</style>\n",
       "<table border=\"1\" class=\"dataframe\">\n",
       "  <thead>\n",
       "    <tr style=\"text-align: right;\">\n",
       "      <th></th>\n",
       "      <th>Hour</th>\n",
       "      <th>Date/hour start</th>\n",
       "      <th>Solar electricity generation (kWh)</th>\n",
       "      <th>Electricity usage (kWh)</th>\n",
       "    </tr>\n",
       "  </thead>\n",
       "  <tbody>\n",
       "    <tr>\n",
       "      <th>2569</th>\n",
       "      <td>1</td>\n",
       "      <td>2020-04-18 01:00:00</td>\n",
       "      <td>13.05</td>\n",
       "      <td>0.315968</td>\n",
       "    </tr>\n",
       "  </tbody>\n",
       "</table>\n",
       "</div>"
      ],
      "text/plain": [
       "      Hour     Date/hour start  Solar electricity generation (kWh)  \\\n",
       "2569     1 2020-04-18 01:00:00                               13.05   \n",
       "\n",
       "      Electricity usage (kWh)  \n",
       "2569                 0.315968  "
      ]
     },
     "execution_count": 55,
     "metadata": {},
     "output_type": "execute_result"
    }
   ],
   "source": [
    "df[(df['Hour']==1) & (df['Solar electricity generation (kWh)']>0)]"
   ]
  },
  {
   "cell_type": "markdown",
   "metadata": {},
   "source": [
    "13kWh at 1AM seems highly unlikely, and we will therefore be dropping this instance."
   ]
  },
  {
   "cell_type": "code",
   "execution_count": 56,
   "metadata": {},
   "outputs": [],
   "source": [
    "df.drop(index = 2569, inplace = True)"
   ]
  },
  {
   "cell_type": "markdown",
   "metadata": {},
   "source": [
    "Next, we would like to see any trends in the hourly electricity used."
   ]
  },
  {
   "cell_type": "code",
   "execution_count": 57,
   "metadata": {},
   "outputs": [
    {
     "data": {
      "text/plain": [
       "<Axes: xlabel='Hour', ylabel='Electricity usage (kWh)'>"
      ]
     },
     "execution_count": 57,
     "metadata": {},
     "output_type": "execute_result"
    },
    {
     "data": {
      "image/png": "[encoded data removed]",
      "text/plain": [
       "<Figure size 640x480 with 1 Axes>"
      ]
     },
     "metadata": {},
     "output_type": "display_data"
    }
   ],
   "source": [
    "hourly_electricity = df.groupby('Hour')['Electricity usage (kWh)'].mean()\n",
    "sns.barplot(hourly_electricity)"
   ]
  },
  {
   "cell_type": "markdown",
   "metadata": {},
   "source": [
    "We seem to have an extreme outlier here."
   ]
  },
  {
   "cell_type": "code",
   "execution_count": 58,
   "metadata": {},
   "outputs": [
    {
     "data": {
      "text/plain": [
       "count      365.000000\n",
       "mean       128.000444\n",
       "std       2407.650952\n",
       "min          0.000000\n",
       "25%          0.246000\n",
       "50%          0.483000\n",
       "75%          0.921000\n",
       "max      46000.000000\n",
       "Name: Electricity usage (kWh), dtype: float64"
      ]
     },
     "execution_count": 58,
     "metadata": {},
     "output_type": "execute_result"
    }
   ],
   "source": [
    "df[df['Hour']==12]['Electricity usage (kWh)'].describe()"
   ]
  },
  {
   "cell_type": "markdown",
   "metadata": {},
   "source": [
    "Wow! The average consumption is 128 kWh and the median is 0.483 and the max is 46000.\n",
    "This is definitely an outlier."
   ]
  },
  {
   "cell_type": "code",
   "execution_count": 59,
   "metadata": {},
   "outputs": [
    {
     "data": {
      "text/plain": [
       "Index([276], dtype='int64')"
      ]
     },
     "execution_count": 59,
     "metadata": {},
     "output_type": "execute_result"
    }
   ],
   "source": [
    "df[df['Electricity usage (kWh)']==46000].index"
   ]
  },
  {
   "cell_type": "code",
   "execution_count": 60,
   "metadata": {},
   "outputs": [],
   "source": [
    "df.drop(index = 276, inplace = True)"
   ]
  },
  {
   "cell_type": "code",
   "execution_count": 61,
   "metadata": {},
   "outputs": [
    {
     "data": {
      "text/plain": [
       "<Axes: xlabel='Hour', ylabel='Electricity usage (kWh)'>"
      ]
     },
     "execution_count": 61,
     "metadata": {},
     "output_type": "execute_result"
    },
    {
     "data": {
      "image/png": "[encoded data removed]",
      "text/plain": [
       "<Figure size 640x480 with 1 Axes>"
      ]
     },
     "metadata": {},
     "output_type": "display_data"
    }
   ],
   "source": [
    "hourly_electricity = df.groupby('Hour')['Electricity usage (kWh)'].mean()\n",
    "sns.barplot(hourly_electricity)"
   ]
  },
  {
   "cell_type": "code",
   "execution_count": 62,
   "metadata": {},
   "outputs": [
    {
     "data": {
      "text/plain": [
       "count    364.000000\n",
       "mean       1.978467\n",
       "std        4.643379\n",
       "min        0.000000\n",
       "25%        0.246000\n",
       "50%        0.481500\n",
       "75%        0.921000\n",
       "max       31.692000\n",
       "Name: Electricity usage (kWh), dtype: float64"
      ]
     },
     "execution_count": 62,
     "metadata": {},
     "output_type": "execute_result"
    }
   ],
   "source": [
    "df[df['Hour']==12]['Electricity usage (kWh)'].describe()"
   ]
  },
  {
   "cell_type": "markdown",
   "metadata": {},
   "source": [
    "The min value for electricity consumption is a negative value which does not make sense. "
   ]
  }
 ],
 "metadata": {
  "kernelspec": {
   "display_name": "myenv",
   "language": "python",
   "name": "python3"
  },
  "language_info": {
   "codemirror_mode": {
    "name": "ipython",
    "version": 3
   },
   "file_extension": ".py",
   "mimetype": "text/x-python",
   "name": "python",
   "nbconvert_exporter": "python",
   "pygments_lexer": "ipython3",
   "version": "3.11.4"
  }
 },
 "nbformat": 4,
 "nbformat_minor": 2
}
