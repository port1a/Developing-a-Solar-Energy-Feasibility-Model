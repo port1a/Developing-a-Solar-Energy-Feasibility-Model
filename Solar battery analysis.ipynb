{
 "cells": [
  {
   "cell_type": "code",
   "execution_count": 83,
   "metadata": {},
   "outputs": [],
   "source": [
    "# import libraries\n",
    "import seaborn as sns\n",
    "import pandas as pd\n",
    "import numpy as np\n",
    "import matplotlib.pyplot as plt"
   ]
  },
  {
   "cell_type": "code",
   "execution_count": 84,
   "metadata": {},
   "outputs": [
    {
     "data": {
      "text/html": [
       "<div>\n",
       "<style scoped>\n",
       "    .dataframe tbody tr th:only-of-type {\n",
       "        vertical-align: middle;\n",
       "    }\n",
       "\n",
       "    .dataframe tbody tr th {\n",
       "        vertical-align: top;\n",
       "    }\n",
       "\n",
       "    .dataframe thead th {\n",
       "        text-align: right;\n",
       "    }\n",
       "</style>\n",
       "<table border=\"1\" class=\"dataframe\">\n",
       "  <thead>\n",
       "    <tr style=\"text-align: right;\">\n",
       "      <th></th>\n",
       "      <th>Hour</th>\n",
       "      <th>Date/hour start</th>\n",
       "      <th>Solar electricity generation (kWh)</th>\n",
       "      <th>Electricity usage (kWh)</th>\n",
       "    </tr>\n",
       "  </thead>\n",
       "  <tbody>\n",
       "    <tr>\n",
       "      <th>0</th>\n",
       "      <td>0</td>\n",
       "      <td>2020-01-01 00:00:00</td>\n",
       "      <td>0.0</td>\n",
       "      <td>1.509849</td>\n",
       "    </tr>\n",
       "    <tr>\n",
       "      <th>1</th>\n",
       "      <td>1</td>\n",
       "      <td>2020-01-01 01:00:00</td>\n",
       "      <td>0.0</td>\n",
       "      <td>1.411859</td>\n",
       "    </tr>\n",
       "    <tr>\n",
       "      <th>2</th>\n",
       "      <td>2</td>\n",
       "      <td>2020-01-01 02:00:00</td>\n",
       "      <td>0.0</td>\n",
       "      <td>1.023898</td>\n",
       "    </tr>\n",
       "    <tr>\n",
       "      <th>3</th>\n",
       "      <td>3</td>\n",
       "      <td>2020-01-01 03:00:00</td>\n",
       "      <td>0.0</td>\n",
       "      <td>0.642000</td>\n",
       "    </tr>\n",
       "    <tr>\n",
       "      <th>4</th>\n",
       "      <td>4</td>\n",
       "      <td>2020-01-01 04:00:00</td>\n",
       "      <td>0.0</td>\n",
       "      <td>0.960000</td>\n",
       "    </tr>\n",
       "  </tbody>\n",
       "</table>\n",
       "</div>"
      ],
      "text/plain": [
       "   Hour     Date/hour start  Solar electricity generation (kWh)  \\\n",
       "0     0 2020-01-01 00:00:00                                 0.0   \n",
       "1     1 2020-01-01 01:00:00                                 0.0   \n",
       "2     2 2020-01-01 02:00:00                                 0.0   \n",
       "3     3 2020-01-01 03:00:00                                 0.0   \n",
       "4     4 2020-01-01 04:00:00                                 0.0   \n",
       "\n",
       "   Electricity usage (kWh)  \n",
       "0                 1.509849  \n",
       "1                 1.411859  \n",
       "2                 1.023898  \n",
       "3                 0.642000  \n",
       "4                 0.960000  "
      ]
     },
     "execution_count": 84,
     "metadata": {},
     "output_type": "execute_result"
    }
   ],
   "source": [
    "# import data\n",
    "\n",
    "df = pd.read_excel(\"Junior Data Analyst _ Data.xlsx\", header = 2)\n",
    "df.head()"
   ]
  },
  {
   "cell_type": "code",
   "execution_count": 85,
   "metadata": {},
   "outputs": [
    {
     "data": {
      "text/html": [
       "<div>\n",
       "<style scoped>\n",
       "    .dataframe tbody tr th:only-of-type {\n",
       "        vertical-align: middle;\n",
       "    }\n",
       "\n",
       "    .dataframe tbody tr th {\n",
       "        vertical-align: top;\n",
       "    }\n",
       "\n",
       "    .dataframe thead th {\n",
       "        text-align: right;\n",
       "    }\n",
       "</style>\n",
       "<table border=\"1\" class=\"dataframe\">\n",
       "  <thead>\n",
       "    <tr style=\"text-align: right;\">\n",
       "      <th></th>\n",
       "      <th>Hour</th>\n",
       "      <th>Date/hour start</th>\n",
       "      <th>Solar electricity generation (kWh)</th>\n",
       "      <th>Electricity usage (kWh)</th>\n",
       "    </tr>\n",
       "  </thead>\n",
       "  <tbody>\n",
       "    <tr>\n",
       "      <th>count</th>\n",
       "      <td>8760.000000</td>\n",
       "      <td>8760</td>\n",
       "      <td>8760.000000</td>\n",
       "      <td>8760.000000</td>\n",
       "    </tr>\n",
       "    <tr>\n",
       "      <th>mean</th>\n",
       "      <td>11.500000</td>\n",
       "      <td>2020-07-02 07:37:13.972602624</td>\n",
       "      <td>1.116750</td>\n",
       "      <td>7.312704</td>\n",
       "    </tr>\n",
       "    <tr>\n",
       "      <th>min</th>\n",
       "      <td>0.000000</td>\n",
       "      <td>2020-01-01 00:00:00</td>\n",
       "      <td>0.000000</td>\n",
       "      <td>-12.624000</td>\n",
       "    </tr>\n",
       "    <tr>\n",
       "      <th>25%</th>\n",
       "      <td>5.750000</td>\n",
       "      <td>2020-04-02 05:45:00</td>\n",
       "      <td>0.000000</td>\n",
       "      <td>0.300000</td>\n",
       "    </tr>\n",
       "    <tr>\n",
       "      <th>50%</th>\n",
       "      <td>11.500000</td>\n",
       "      <td>2020-07-02 11:30:00</td>\n",
       "      <td>0.024000</td>\n",
       "      <td>0.621000</td>\n",
       "    </tr>\n",
       "    <tr>\n",
       "      <th>75%</th>\n",
       "      <td>17.250000</td>\n",
       "      <td>2020-10-01 17:15:00</td>\n",
       "      <td>1.272750</td>\n",
       "      <td>1.686000</td>\n",
       "    </tr>\n",
       "    <tr>\n",
       "      <th>max</th>\n",
       "      <td>23.000000</td>\n",
       "      <td>2020-12-31 23:00:00</td>\n",
       "      <td>13.050000</td>\n",
       "      <td>46000.000000</td>\n",
       "    </tr>\n",
       "    <tr>\n",
       "      <th>std</th>\n",
       "      <td>6.922582</td>\n",
       "      <td>NaN</td>\n",
       "      <td>2.026098</td>\n",
       "      <td>491.479806</td>\n",
       "    </tr>\n",
       "  </tbody>\n",
       "</table>\n",
       "</div>"
      ],
      "text/plain": [
       "              Hour                Date/hour start  \\\n",
       "count  8760.000000                           8760   \n",
       "mean     11.500000  2020-07-02 07:37:13.972602624   \n",
       "min       0.000000            2020-01-01 00:00:00   \n",
       "25%       5.750000            2020-04-02 05:45:00   \n",
       "50%      11.500000            2020-07-02 11:30:00   \n",
       "75%      17.250000            2020-10-01 17:15:00   \n",
       "max      23.000000            2020-12-31 23:00:00   \n",
       "std       6.922582                            NaN   \n",
       "\n",
       "       Solar electricity generation (kWh)  Electricity usage (kWh)  \n",
       "count                         8760.000000              8760.000000  \n",
       "mean                             1.116750                 7.312704  \n",
       "min                              0.000000               -12.624000  \n",
       "25%                              0.000000                 0.300000  \n",
       "50%                              0.024000                 0.621000  \n",
       "75%                              1.272750                 1.686000  \n",
       "max                             13.050000             46000.000000  \n",
       "std                              2.026098               491.479806  "
      ]
     },
     "execution_count": 85,
     "metadata": {},
     "output_type": "execute_result"
    }
   ],
   "source": [
    "df.describe()"
   ]
  },
  {
   "cell_type": "code",
   "execution_count": 86,
   "metadata": {},
   "outputs": [
    {
     "name": "stdout",
     "output_type": "stream",
     "text": [
      "<class 'pandas.core.frame.DataFrame'>\n",
      "RangeIndex: 8760 entries, 0 to 8759\n",
      "Data columns (total 4 columns):\n",
      " #   Column                              Non-Null Count  Dtype         \n",
      "---  ------                              --------------  -----         \n",
      " 0   Hour                                8760 non-null   int64         \n",
      " 1   Date/hour start                     8760 non-null   datetime64[ns]\n",
      " 2   Solar electricity generation (kWh)  8760 non-null   float64       \n",
      " 3   Electricity usage (kWh)             8760 non-null   float64       \n",
      "dtypes: datetime64[ns](1), float64(2), int64(1)\n",
      "memory usage: 273.9 KB\n"
     ]
    }
   ],
   "source": [
    "df.info()"
   ]
  },
  {
   "cell_type": "code",
   "execution_count": 87,
   "metadata": {},
   "outputs": [
    {
     "data": {
      "text/plain": [
       "np.int64(0)"
      ]
     },
     "execution_count": 87,
     "metadata": {},
     "output_type": "execute_result"
    }
   ],
   "source": [
    "# Checking data for outliers and duplicates\n",
    "df.duplicated().sum()"
   ]
  },
  {
   "cell_type": "code",
   "execution_count": 88,
   "metadata": {},
   "outputs": [
    {
     "data": {
      "text/plain": [
       "<Axes: xlabel='Hour', ylabel='Solar electricity generation (kWh)'>"
      ]
     },
     "execution_count": 88,
     "metadata": {},
     "output_type": "execute_result"
    },
    {
     "data": {
      "image/png": "[encoded data removed]",
      "text/plain": [
       "<Figure size 640x480 with 1 Axes>"
      ]
     },
     "metadata": {},
     "output_type": "display_data"
    }
   ],
   "source": [
    "# Plotting the average solar electricity generated per hour\n",
    "import seaborn as sns\n",
    "hourly_solar = df.groupby('Hour')['Solar electricity generation (kWh)'].mean()\n",
    "sns.barplot(hourly_solar)"
   ]
  },
  {
   "cell_type": "markdown",
   "metadata": {},
   "source": [
    "It seems unlikely to have sunlight at 1 AM in the morning. Let us investigate this further."
   ]
  },
  {
   "cell_type": "code",
   "execution_count": 89,
   "metadata": {},
   "outputs": [
    {
     "data": {
      "text/html": [
       "<div>\n",
       "<style scoped>\n",
       "    .dataframe tbody tr th:only-of-type {\n",
       "        vertical-align: middle;\n",
       "    }\n",
       "\n",
       "    .dataframe tbody tr th {\n",
       "        vertical-align: top;\n",
       "    }\n",
       "\n",
       "    .dataframe thead th {\n",
       "        text-align: right;\n",
       "    }\n",
       "</style>\n",
       "<table border=\"1\" class=\"dataframe\">\n",
       "  <thead>\n",
       "    <tr style=\"text-align: right;\">\n",
       "      <th></th>\n",
       "      <th>Hour</th>\n",
       "      <th>Date/hour start</th>\n",
       "      <th>Solar electricity generation (kWh)</th>\n",
       "      <th>Electricity usage (kWh)</th>\n",
       "    </tr>\n",
       "  </thead>\n",
       "  <tbody>\n",
       "    <tr>\n",
       "      <th>2569</th>\n",
       "      <td>1</td>\n",
       "      <td>2020-04-18 01:00:00</td>\n",
       "      <td>13.05</td>\n",
       "      <td>0.315968</td>\n",
       "    </tr>\n",
       "  </tbody>\n",
       "</table>\n",
       "</div>"
      ],
      "text/plain": [
       "      Hour     Date/hour start  Solar electricity generation (kWh)  \\\n",
       "2569     1 2020-04-18 01:00:00                               13.05   \n",
       "\n",
       "      Electricity usage (kWh)  \n",
       "2569                 0.315968  "
      ]
     },
     "execution_count": 89,
     "metadata": {},
     "output_type": "execute_result"
    }
   ],
   "source": [
    "df[(df['Hour']==1) & (df['Solar electricity generation (kWh)']>0)]"
   ]
  },
  {
   "cell_type": "markdown",
   "metadata": {},
   "source": [
    "13kWh at 1AM seems highly unlikely, and we will therefore be dropping this instance."
   ]
  },
  {
   "cell_type": "code",
   "execution_count": 90,
   "metadata": {},
   "outputs": [],
   "source": [
    "df.drop(index = 2569, inplace = True)"
   ]
  },
  {
   "cell_type": "markdown",
   "metadata": {},
   "source": [
    "Next, we would like to see any trends in the hourly electricity used."
   ]
  },
  {
   "cell_type": "code",
   "execution_count": 91,
   "metadata": {},
   "outputs": [
    {
     "data": {
      "text/plain": [
       "<Axes: xlabel='Hour', ylabel='Electricity usage (kWh)'>"
      ]
     },
     "execution_count": 91,
     "metadata": {},
     "output_type": "execute_result"
    },
    {
     "data": {
      "image/png": "[encoded data removed]",
      "text/plain": [
       "<Figure size 640x480 with 1 Axes>"
      ]
     },
     "metadata": {},
     "output_type": "display_data"
    }
   ],
   "source": [
    "hourly_electricity = df.groupby('Hour')['Electricity usage (kWh)'].mean()\n",
    "sns.barplot(hourly_electricity)"
   ]
  },
  {
   "cell_type": "markdown",
   "metadata": {},
   "source": [
    "We seem to have an extreme outlier here."
   ]
  },
  {
   "cell_type": "code",
   "execution_count": 92,
   "metadata": {},
   "outputs": [
    {
     "data": {
      "text/plain": [
       "count      365.000000\n",
       "mean       128.000444\n",
       "std       2407.650952\n",
       "min          0.000000\n",
       "25%          0.246000\n",
       "50%          0.483000\n",
       "75%          0.921000\n",
       "max      46000.000000\n",
       "Name: Electricity usage (kWh), dtype: float64"
      ]
     },
     "execution_count": 92,
     "metadata": {},
     "output_type": "execute_result"
    }
   ],
   "source": [
    "df[df['Hour']==12]['Electricity usage (kWh)'].describe()"
   ]
  },
  {
   "cell_type": "markdown",
   "metadata": {},
   "source": [
    "Wow! The average consumption is 128 kWh and the median is 0.483 and the max is 46000.\n",
    "This is definitely an outlier."
   ]
  },
  {
   "cell_type": "code",
   "execution_count": 93,
   "metadata": {},
   "outputs": [
    {
     "data": {
      "text/plain": [
       "Index([276], dtype='int64')"
      ]
     },
     "execution_count": 93,
     "metadata": {},
     "output_type": "execute_result"
    }
   ],
   "source": [
    "df[df['Electricity usage (kWh)']==46000].index"
   ]
  },
  {
   "cell_type": "code",
   "execution_count": 94,
   "metadata": {},
   "outputs": [],
   "source": [
    "df.drop(index = 276, inplace = True)"
   ]
  },
  {
   "cell_type": "code",
   "execution_count": 95,
   "metadata": {},
   "outputs": [
    {
     "data": {
      "text/plain": [
       "<Axes: xlabel='Hour', ylabel='Electricity usage (kWh)'>"
      ]
     },
     "execution_count": 95,
     "metadata": {},
     "output_type": "execute_result"
    },
    {
     "data": {
      "image/png": "[encoded data removed]",
      "text/plain": [
       "<Figure size 640x480 with 1 Axes>"
      ]
     },
     "metadata": {},
     "output_type": "display_data"
    }
   ],
   "source": [
    "hourly_electricity = df.groupby('Hour')['Electricity usage (kWh)'].mean()\n",
    "sns.barplot(hourly_electricity)"
   ]
  },
  {
   "cell_type": "code",
   "execution_count": 96,
   "metadata": {},
   "outputs": [
    {
     "data": {
      "text/plain": [
       "<Axes: xlabel='Hour', ylabel='Solar electricity generation (kWh)'>"
      ]
     },
     "execution_count": 96,
     "metadata": {},
     "output_type": "execute_result"
    },
    {
     "data": {
      "image/png": "[encoded data removed]",
      "text/plain": [
       "<Figure size 640x480 with 1 Axes>"
      ]
     },
     "metadata": {},
     "output_type": "display_data"
    }
   ],
   "source": [
    "hourly_solar = df.groupby('Hour')['Solar electricity generation (kWh)'].mean()\n",
    "sns.barplot(hourly_solar)"
   ]
  },
  {
   "cell_type": "markdown",
   "metadata": {},
   "source": [
    "The min value for electricity consumption is a negative value which does not make sense. "
   ]
  },
  {
   "cell_type": "code",
   "execution_count": 97,
   "metadata": {},
   "outputs": [
    {
     "data": {
      "text/html": [
       "<div>\n",
       "<style scoped>\n",
       "    .dataframe tbody tr th:only-of-type {\n",
       "        vertical-align: middle;\n",
       "    }\n",
       "\n",
       "    .dataframe tbody tr th {\n",
       "        vertical-align: top;\n",
       "    }\n",
       "\n",
       "    .dataframe thead th {\n",
       "        text-align: right;\n",
       "    }\n",
       "</style>\n",
       "<table border=\"1\" class=\"dataframe\">\n",
       "  <thead>\n",
       "    <tr style=\"text-align: right;\">\n",
       "      <th></th>\n",
       "      <th>Hour</th>\n",
       "      <th>Date/hour start</th>\n",
       "      <th>Solar electricity generation (kWh)</th>\n",
       "      <th>Electricity usage (kWh)</th>\n",
       "    </tr>\n",
       "  </thead>\n",
       "  <tbody>\n",
       "    <tr>\n",
       "      <th>17</th>\n",
       "      <td>17</td>\n",
       "      <td>2020-01-01 17:00:00</td>\n",
       "      <td>0.006</td>\n",
       "      <td>-12.6240</td>\n",
       "    </tr>\n",
       "    <tr>\n",
       "      <th>933</th>\n",
       "      <td>21</td>\n",
       "      <td>2020-02-08 21:00:00</td>\n",
       "      <td>0.006</td>\n",
       "      <td>-2.1330</td>\n",
       "    </tr>\n",
       "    <tr>\n",
       "      <th>935</th>\n",
       "      <td>23</td>\n",
       "      <td>2020-02-08 23:00:00</td>\n",
       "      <td>0.000</td>\n",
       "      <td>-0.2175</td>\n",
       "    </tr>\n",
       "    <tr>\n",
       "      <th>3593</th>\n",
       "      <td>17</td>\n",
       "      <td>2020-05-30 17:00:00</td>\n",
       "      <td>1.185</td>\n",
       "      <td>-2.5140</td>\n",
       "    </tr>\n",
       "    <tr>\n",
       "      <th>6464</th>\n",
       "      <td>8</td>\n",
       "      <td>2020-09-27 08:00:00</td>\n",
       "      <td>0.717</td>\n",
       "      <td>-1.9770</td>\n",
       "    </tr>\n",
       "  </tbody>\n",
       "</table>\n",
       "</div>"
      ],
      "text/plain": [
       "      Hour     Date/hour start  Solar electricity generation (kWh)  \\\n",
       "17      17 2020-01-01 17:00:00                               0.006   \n",
       "933     21 2020-02-08 21:00:00                               0.006   \n",
       "935     23 2020-02-08 23:00:00                               0.000   \n",
       "3593    17 2020-05-30 17:00:00                               1.185   \n",
       "6464     8 2020-09-27 08:00:00                               0.717   \n",
       "\n",
       "      Electricity usage (kWh)  \n",
       "17                   -12.6240  \n",
       "933                   -2.1330  \n",
       "935                   -0.2175  \n",
       "3593                  -2.5140  \n",
       "6464                  -1.9770  "
      ]
     },
     "execution_count": 97,
     "metadata": {},
     "output_type": "execute_result"
    }
   ],
   "source": [
    "df[df['Electricity usage (kWh)']<0]"
   ]
  },
  {
   "cell_type": "markdown",
   "metadata": {},
   "source": [
    "Fortunately it is only in a few rows, and we will be able to drop them."
   ]
  },
  {
   "cell_type": "code",
   "execution_count": 98,
   "metadata": {},
   "outputs": [],
   "source": [
    "df = df[df['Electricity usage (kWh)']>0]\n"
   ]
  },
  {
   "cell_type": "markdown",
   "metadata": {},
   "source": [
    "Checking for outliers in our Solar distribution"
   ]
  },
  {
   "cell_type": "code",
   "execution_count": 99,
   "metadata": {},
   "outputs": [
    {
     "data": {
      "text/plain": [
       "<Axes: ylabel='Solar electricity generation (kWh)'>"
      ]
     },
     "execution_count": 99,
     "metadata": {},
     "output_type": "execute_result"
    },
    {
     "data": {
      "image/png": "[encoded data removed]",
      "text/plain": [
       "<Figure size 640x480 with 1 Axes>"
      ]
     },
     "metadata": {},
     "output_type": "display_data"
    }
   ],
   "source": [
    "sns.boxplot(y = 'Solar electricity generation (kWh)', data = df)"
   ]
  },
  {
   "cell_type": "code",
   "execution_count": 100,
   "metadata": {},
   "outputs": [
    {
     "data": {
      "text/plain": [
       "<Axes: ylabel='Solar electricity generation (kWh)'>"
      ]
     },
     "execution_count": 100,
     "metadata": {},
     "output_type": "execute_result"
    },
    {
     "data": {
      "image/png": "[encoded data removed]",
      "text/plain": [
       "<Figure size 640x480 with 1 Axes>"
      ]
     },
     "metadata": {},
     "output_type": "display_data"
    }
   ],
   "source": [
    "# Defining the IQR\n",
    "bottom_25_sol= df['Solar electricity generation (kWh)'].quantile(0.25)\n",
    "top_25_sol = df['Solar electricity generation (kWh)'].quantile(0.75)\n",
    "IQR = top_25_sol - bottom_25_sol\n",
    "\n",
    "# Creating a mask to filter the middle part of our data\n",
    "sol_mask = df['Solar electricity generation (kWh)'].between(bottom_25_sol - 1.5 * IQR, top_25_sol + 1.5 * IQR)\n",
    "\n",
    "# Dropping outliers using the mask\n",
    "df = df[sol_mask]\n",
    "\n",
    "# Visualizing the trimmed data\n",
    "sns.boxplot(y = 'Solar electricity generation (kWh)', data = df)"
   ]
  },
  {
   "cell_type": "markdown",
   "metadata": {},
   "source": [
    "Checking for outliers in our Electricity distribution"
   ]
  },
  {
   "cell_type": "code",
   "execution_count": 101,
   "metadata": {},
   "outputs": [
    {
     "data": {
      "text/plain": [
       "<Axes: ylabel='Electricity usage (kWh)'>"
      ]
     },
     "execution_count": 101,
     "metadata": {},
     "output_type": "execute_result"
    },
    {
     "data": {
      "image/png": "[encoded data removed]",
      "text/plain": [
       "<Figure size 640x480 with 1 Axes>"
      ]
     },
     "metadata": {},
     "output_type": "display_data"
    }
   ],
   "source": [
    "sns.boxplot(y = 'Electricity usage (kWh)', data = df)"
   ]
  },
  {
   "cell_type": "code",
   "execution_count": 102,
   "metadata": {},
   "outputs": [
    {
     "data": {
      "text/plain": [
       "<Axes: ylabel='Electricity usage (kWh)'>"
      ]
     },
     "execution_count": 102,
     "metadata": {},
     "output_type": "execute_result"
    },
    {
     "data": {
      "image/png": "[encoded data removed]",
      "text/plain": [
       "<Figure size 640x480 with 1 Axes>"
      ]
     },
     "metadata": {},
     "output_type": "display_data"
    }
   ],
   "source": [
    "# Defining the IQR\n",
    "bottom_25_elec = df['Electricity usage (kWh)'].quantile(0.25)\n",
    "top_25_elec = df['Electricity usage (kWh)'].quantile(0.75)\n",
    "IQR = top_25_elec - bottom_25_elec\n",
    "\n",
    "# Creating a mask to filter the middle data\n",
    "elec_mask = df['Electricity usage (kWh)'].between(bottom_25_elec - 1.5 * IQR, top_25_elec + 1.5 *IQR)\n",
    "df = df[elec_mask]\n",
    "\n",
    "# Visualizing the trimmed data\n",
    "sns.boxplot(y = 'Electricity usage (kWh)', data = df)"
   ]
  },
  {
   "cell_type": "markdown",
   "metadata": {},
   "source": [
    "A vast improvement."
   ]
  },
  {
   "cell_type": "markdown",
   "metadata": {},
   "source": [
    "Next we would like to seethe trends of consumption and generation across the 12 months. We create a new column month to visualize these trends."
   ]
  },
  {
   "cell_type": "code",
   "execution_count": 103,
   "metadata": {},
   "outputs": [
    {
     "data": {
      "text/plain": [
       "<Figure size 1000x800 with 0 Axes>"
      ]
     },
     "metadata": {},
     "output_type": "display_data"
    },
    {
     "data": {
      "image/png": "[encoded data removed]",
      "text/plain": [
       "<Figure size 640x480 with 1 Axes>"
      ]
     },
     "metadata": {},
     "output_type": "display_data"
    }
   ],
   "source": [
    "# Extracting a month column\n",
    "df['Date/hour start']= pd.to_datetime(df['Date/hour start'])\n",
    "df['Month']= pd.DatetimeIndex(df['Date/hour start']).month\n",
    "monthly_usage= df.groupby('Month')[['Electricity usage (kWh)', 'Solar electricity generation (kWh)']].mean()\n",
    "\n",
    "# Plotting the trends across the year\n",
    "plt.figure(figsize=(10, 8))\n",
    "monthly_usage.plot(marker = '*')\n",
    "plt.ylabel('Energy in kWh')\n",
    "plt.title('A Comparison of Electricity Consumed and Solar Energy Generated Across the Year')\n",
    "plt.legend(loc = 'upper center', labels = ['Electricity', 'Solar'])\n",
    "plt.xticks(ticks = monthly_usage.index, labels=['Jan', 'Feb', 'Mar', 'Apr', 'May', 'Jun', 'Jul', 'Aug', 'Sep', 'Oct', 'Nov', 'Dec'])\n",
    "plt.show()\n"
   ]
  },
  {
   "cell_type": "markdown",
   "metadata": {},
   "source": [
    "There seems to be a relationship between when there is more sunshine and lower electricity consumption. Perhaps the house uses electricity for warmth in the colder months or energy saving measures like drying clothes on a clothes line as opposed to a drying machine."
   ]
  },
  {
   "cell_type": "markdown",
   "metadata": {},
   "source": [
    "Checking patterns across the Seven days of the week."
   ]
  },
  {
   "cell_type": "code",
   "execution_count": 104,
   "metadata": {},
   "outputs": [
    {
     "data": {
      "text/html": [
       "<div>\n",
       "<style scoped>\n",
       "    .dataframe tbody tr th:only-of-type {\n",
       "        vertical-align: middle;\n",
       "    }\n",
       "\n",
       "    .dataframe tbody tr th {\n",
       "        vertical-align: top;\n",
       "    }\n",
       "\n",
       "    .dataframe thead th {\n",
       "        text-align: right;\n",
       "    }\n",
       "</style>\n",
       "<table border=\"1\" class=\"dataframe\">\n",
       "  <thead>\n",
       "    <tr style=\"text-align: right;\">\n",
       "      <th></th>\n",
       "      <th>Electricity usage (kWh)</th>\n",
       "      <th>Solar electricity generation (kWh)</th>\n",
       "    </tr>\n",
       "    <tr>\n",
       "      <th>Day</th>\n",
       "      <th></th>\n",
       "      <th></th>\n",
       "    </tr>\n",
       "  </thead>\n",
       "  <tbody>\n",
       "    <tr>\n",
       "      <th>Friday</th>\n",
       "      <td>0.968013</td>\n",
       "      <td>0.415602</td>\n",
       "    </tr>\n",
       "    <tr>\n",
       "      <th>Monday</th>\n",
       "      <td>0.960391</td>\n",
       "      <td>0.372331</td>\n",
       "    </tr>\n",
       "    <tr>\n",
       "      <th>Saturday</th>\n",
       "      <td>0.917469</td>\n",
       "      <td>0.419366</td>\n",
       "    </tr>\n",
       "    <tr>\n",
       "      <th>Sunday</th>\n",
       "      <td>0.937761</td>\n",
       "      <td>0.393563</td>\n",
       "    </tr>\n",
       "    <tr>\n",
       "      <th>Thursday</th>\n",
       "      <td>0.935808</td>\n",
       "      <td>0.367380</td>\n",
       "    </tr>\n",
       "    <tr>\n",
       "      <th>Tuesday</th>\n",
       "      <td>1.023369</td>\n",
       "      <td>0.389714</td>\n",
       "    </tr>\n",
       "    <tr>\n",
       "      <th>Wednesday</th>\n",
       "      <td>1.024864</td>\n",
       "      <td>0.397409</td>\n",
       "    </tr>\n",
       "  </tbody>\n",
       "</table>\n",
       "</div>"
      ],
      "text/plain": [
       "           Electricity usage (kWh)  Solar electricity generation (kWh)\n",
       "Day                                                                   \n",
       "Friday                    0.968013                            0.415602\n",
       "Monday                    0.960391                            0.372331\n",
       "Saturday                  0.917469                            0.419366\n",
       "Sunday                    0.937761                            0.393563\n",
       "Thursday                  0.935808                            0.367380\n",
       "Tuesday                   1.023369                            0.389714\n",
       "Wednesday                 1.024864                            0.397409"
      ]
     },
     "execution_count": 104,
     "metadata": {},
     "output_type": "execute_result"
    }
   ],
   "source": [
    "# Extracting day of the week\n",
    "df['Day']= pd.to_datetime(df['Date/hour start']).dt.day_name()\n",
    "\n",
    "# Grouping the mean electricity consumed and solar generated by day of the week\n",
    "daily_usage= (df.groupby('Day')\n",
    "            [['Electricity usage (kWh)', 'Solar electricity generation (kWh)']]\n",
    "            .mean())\n",
    "daily_usage\n"
   ]
  },
  {
   "cell_type": "markdown",
   "metadata": {},
   "source": [
    "Having checked the trends across the year and across the days of the week, we can go ahead and try to model our battery after dropping unnecessary columns month and day."
   ]
  },
  {
   "cell_type": "code",
   "execution_count": 105,
   "metadata": {},
   "outputs": [
    {
     "data": {
      "text/html": [
       "<div>\n",
       "<style scoped>\n",
       "    .dataframe tbody tr th:only-of-type {\n",
       "        vertical-align: middle;\n",
       "    }\n",
       "\n",
       "    .dataframe tbody tr th {\n",
       "        vertical-align: top;\n",
       "    }\n",
       "\n",
       "    .dataframe thead th {\n",
       "        text-align: right;\n",
       "    }\n",
       "</style>\n",
       "<table border=\"1\" class=\"dataframe\">\n",
       "  <thead>\n",
       "    <tr style=\"text-align: right;\">\n",
       "      <th></th>\n",
       "      <th>Hour</th>\n",
       "      <th>Date/hour start</th>\n",
       "      <th>Solar electricity generation (kWh)</th>\n",
       "      <th>Electricity usage (kWh)</th>\n",
       "    </tr>\n",
       "  </thead>\n",
       "  <tbody>\n",
       "    <tr>\n",
       "      <th>0</th>\n",
       "      <td>0</td>\n",
       "      <td>2020-01-01 00:00:00</td>\n",
       "      <td>0.0</td>\n",
       "      <td>1.509849</td>\n",
       "    </tr>\n",
       "    <tr>\n",
       "      <th>1</th>\n",
       "      <td>1</td>\n",
       "      <td>2020-01-01 01:00:00</td>\n",
       "      <td>0.0</td>\n",
       "      <td>1.411859</td>\n",
       "    </tr>\n",
       "    <tr>\n",
       "      <th>2</th>\n",
       "      <td>2</td>\n",
       "      <td>2020-01-01 02:00:00</td>\n",
       "      <td>0.0</td>\n",
       "      <td>1.023898</td>\n",
       "    </tr>\n",
       "    <tr>\n",
       "      <th>3</th>\n",
       "      <td>3</td>\n",
       "      <td>2020-01-01 03:00:00</td>\n",
       "      <td>0.0</td>\n",
       "      <td>0.642000</td>\n",
       "    </tr>\n",
       "    <tr>\n",
       "      <th>4</th>\n",
       "      <td>4</td>\n",
       "      <td>2020-01-01 04:00:00</td>\n",
       "      <td>0.0</td>\n",
       "      <td>0.960000</td>\n",
       "    </tr>\n",
       "  </tbody>\n",
       "</table>\n",
       "</div>"
      ],
      "text/plain": [
       "   Hour     Date/hour start  Solar electricity generation (kWh)  \\\n",
       "0     0 2020-01-01 00:00:00                                 0.0   \n",
       "1     1 2020-01-01 01:00:00                                 0.0   \n",
       "2     2 2020-01-01 02:00:00                                 0.0   \n",
       "3     3 2020-01-01 03:00:00                                 0.0   \n",
       "4     4 2020-01-01 04:00:00                                 0.0   \n",
       "\n",
       "   Electricity usage (kWh)  \n",
       "0                 1.509849  \n",
       "1                 1.411859  \n",
       "2                 1.023898  \n",
       "3                 0.642000  \n",
       "4                 0.960000  "
      ]
     },
     "execution_count": 105,
     "metadata": {},
     "output_type": "execute_result"
    }
   ],
   "source": [
    "# Dropping Day and Month columns\n",
    "df.drop(columns =['Day', 'Month'], inplace = True)\n",
    "df.head()"
   ]
  },
  {
   "cell_type": "markdown",
   "metadata": {},
   "source": [
    "We are looking to model a solar panel battery such that the battery stores excess solar power generated and this reserved energy is drawn upon when the solar energy being generated goes down. This would mean that if the investment is made to buy a solar panel battery, the electricity consumed in the household would be:\n",
    "\n",
    "First from solar energy, then if this is insufficient or absent,\n",
    "energy would be drawn from the reserves in the battery\n",
    "& lastly bought from the electricity supplier.\n",
    "\n",
    "First we need to find out how much electricity is being bought with the solar panels installed already."
   ]
  },
  {
   "cell_type": "code",
   "execution_count": 106,
   "metadata": {},
   "outputs": [
    {
     "data": {
      "text/html": [
       "<div>\n",
       "<style scoped>\n",
       "    .dataframe tbody tr th:only-of-type {\n",
       "        vertical-align: middle;\n",
       "    }\n",
       "\n",
       "    .dataframe tbody tr th {\n",
       "        vertical-align: top;\n",
       "    }\n",
       "\n",
       "    .dataframe thead th {\n",
       "        text-align: right;\n",
       "    }\n",
       "</style>\n",
       "<table border=\"1\" class=\"dataframe\">\n",
       "  <thead>\n",
       "    <tr style=\"text-align: right;\">\n",
       "      <th></th>\n",
       "      <th>Hour</th>\n",
       "      <th>Date/hour start</th>\n",
       "      <th>Solar electricity generation (kWh)</th>\n",
       "      <th>Electricity usage (kWh)</th>\n",
       "      <th>Electricity_bought</th>\n",
       "    </tr>\n",
       "  </thead>\n",
       "  <tbody>\n",
       "    <tr>\n",
       "      <th>0</th>\n",
       "      <td>0</td>\n",
       "      <td>2020-01-01 00:00:00</td>\n",
       "      <td>0.000</td>\n",
       "      <td>1.509849</td>\n",
       "      <td>1.509849</td>\n",
       "    </tr>\n",
       "    <tr>\n",
       "      <th>1</th>\n",
       "      <td>1</td>\n",
       "      <td>2020-01-01 01:00:00</td>\n",
       "      <td>0.000</td>\n",
       "      <td>1.411859</td>\n",
       "      <td>1.411859</td>\n",
       "    </tr>\n",
       "    <tr>\n",
       "      <th>2</th>\n",
       "      <td>2</td>\n",
       "      <td>2020-01-01 02:00:00</td>\n",
       "      <td>0.000</td>\n",
       "      <td>1.023898</td>\n",
       "      <td>1.023898</td>\n",
       "    </tr>\n",
       "    <tr>\n",
       "      <th>3</th>\n",
       "      <td>3</td>\n",
       "      <td>2020-01-01 03:00:00</td>\n",
       "      <td>0.000</td>\n",
       "      <td>0.642000</td>\n",
       "      <td>0.642000</td>\n",
       "    </tr>\n",
       "    <tr>\n",
       "      <th>4</th>\n",
       "      <td>4</td>\n",
       "      <td>2020-01-01 04:00:00</td>\n",
       "      <td>0.000</td>\n",
       "      <td>0.960000</td>\n",
       "      <td>0.960000</td>\n",
       "    </tr>\n",
       "    <tr>\n",
       "      <th>5</th>\n",
       "      <td>5</td>\n",
       "      <td>2020-01-01 05:00:00</td>\n",
       "      <td>0.012</td>\n",
       "      <td>0.897000</td>\n",
       "      <td>0.885000</td>\n",
       "    </tr>\n",
       "    <tr>\n",
       "      <th>6</th>\n",
       "      <td>6</td>\n",
       "      <td>2020-01-01 06:00:00</td>\n",
       "      <td>0.006</td>\n",
       "      <td>0.648000</td>\n",
       "      <td>0.642000</td>\n",
       "    </tr>\n",
       "    <tr>\n",
       "      <th>7</th>\n",
       "      <td>7</td>\n",
       "      <td>2020-01-01 07:00:00</td>\n",
       "      <td>0.009</td>\n",
       "      <td>0.774000</td>\n",
       "      <td>0.765000</td>\n",
       "    </tr>\n",
       "    <tr>\n",
       "      <th>8</th>\n",
       "      <td>8</td>\n",
       "      <td>2020-01-01 08:00:00</td>\n",
       "      <td>0.012</td>\n",
       "      <td>1.299000</td>\n",
       "      <td>1.287000</td>\n",
       "    </tr>\n",
       "    <tr>\n",
       "      <th>9</th>\n",
       "      <td>9</td>\n",
       "      <td>2020-01-01 09:00:00</td>\n",
       "      <td>0.846</td>\n",
       "      <td>0.606000</td>\n",
       "      <td>0.000000</td>\n",
       "    </tr>\n",
       "    <tr>\n",
       "      <th>12</th>\n",
       "      <td>12</td>\n",
       "      <td>2020-01-01 12:00:00</td>\n",
       "      <td>0.651</td>\n",
       "      <td>0.396000</td>\n",
       "      <td>0.000000</td>\n",
       "    </tr>\n",
       "    <tr>\n",
       "      <th>13</th>\n",
       "      <td>13</td>\n",
       "      <td>2020-01-01 13:00:00</td>\n",
       "      <td>0.363</td>\n",
       "      <td>0.615000</td>\n",
       "      <td>0.252000</td>\n",
       "    </tr>\n",
       "    <tr>\n",
       "      <th>14</th>\n",
       "      <td>14</td>\n",
       "      <td>2020-01-01 14:00:00</td>\n",
       "      <td>0.303</td>\n",
       "      <td>1.419000</td>\n",
       "      <td>1.116000</td>\n",
       "    </tr>\n",
       "  </tbody>\n",
       "</table>\n",
       "</div>"
      ],
      "text/plain": [
       "    Hour     Date/hour start  Solar electricity generation (kWh)  \\\n",
       "0      0 2020-01-01 00:00:00                               0.000   \n",
       "1      1 2020-01-01 01:00:00                               0.000   \n",
       "2      2 2020-01-01 02:00:00                               0.000   \n",
       "3      3 2020-01-01 03:00:00                               0.000   \n",
       "4      4 2020-01-01 04:00:00                               0.000   \n",
       "5      5 2020-01-01 05:00:00                               0.012   \n",
       "6      6 2020-01-01 06:00:00                               0.006   \n",
       "7      7 2020-01-01 07:00:00                               0.009   \n",
       "8      8 2020-01-01 08:00:00                               0.012   \n",
       "9      9 2020-01-01 09:00:00                               0.846   \n",
       "12    12 2020-01-01 12:00:00                               0.651   \n",
       "13    13 2020-01-01 13:00:00                               0.363   \n",
       "14    14 2020-01-01 14:00:00                               0.303   \n",
       "\n",
       "    Electricity usage (kWh)  Electricity_bought  \n",
       "0                  1.509849            1.509849  \n",
       "1                  1.411859            1.411859  \n",
       "2                  1.023898            1.023898  \n",
       "3                  0.642000            0.642000  \n",
       "4                  0.960000            0.960000  \n",
       "5                  0.897000            0.885000  \n",
       "6                  0.648000            0.642000  \n",
       "7                  0.774000            0.765000  \n",
       "8                  1.299000            1.287000  \n",
       "9                  0.606000            0.000000  \n",
       "12                 0.396000            0.000000  \n",
       "13                 0.615000            0.252000  \n",
       "14                 1.419000            1.116000  "
      ]
     },
     "execution_count": 106,
     "metadata": {},
     "output_type": "execute_result"
    }
   ],
   "source": [
    "df['Electricity_bought'] = np.maximum(0, (df['Electricity usage (kWh)'] - df['Solar electricity generation (kWh)']))\n",
    "\n",
    "df.head(13)"
   ]
  },
  {
   "cell_type": "markdown",
   "metadata": {},
   "source": [
    "From this, we can calculate how much electricity is being bought yearly."
   ]
  },
  {
   "cell_type": "code",
   "execution_count": 107,
   "metadata": {},
   "outputs": [
    {
     "name": "stdout",
     "output_type": "stream",
     "text": [
      "total electricity bought: 5233.72752 kWh\n"
     ]
    }
   ],
   "source": [
    "total_electricity_bought = df['Electricity_bought'].sum()\n",
    "\n",
    "print(f\"total electricity bought: {total_electricity_bought} kWh\")"
   ]
  },
  {
   "cell_type": "markdown",
   "metadata": {},
   "source": [
    "Then we can calculate how much excess solar energy is being generated."
   ]
  },
  {
   "cell_type": "code",
   "execution_count": 108,
   "metadata": {},
   "outputs": [
    {
     "data": {
      "text/html": [
       "<div>\n",
       "<style scoped>\n",
       "    .dataframe tbody tr th:only-of-type {\n",
       "        vertical-align: middle;\n",
       "    }\n",
       "\n",
       "    .dataframe tbody tr th {\n",
       "        vertical-align: top;\n",
       "    }\n",
       "\n",
       "    .dataframe thead th {\n",
       "        text-align: right;\n",
       "    }\n",
       "</style>\n",
       "<table border=\"1\" class=\"dataframe\">\n",
       "  <thead>\n",
       "    <tr style=\"text-align: right;\">\n",
       "      <th></th>\n",
       "      <th>Hour</th>\n",
       "      <th>Date/hour start</th>\n",
       "      <th>Solar electricity generation (kWh)</th>\n",
       "      <th>Electricity usage (kWh)</th>\n",
       "      <th>Electricity_bought</th>\n",
       "      <th>Excess_solar</th>\n",
       "    </tr>\n",
       "  </thead>\n",
       "  <tbody>\n",
       "    <tr>\n",
       "      <th>4326</th>\n",
       "      <td>6</td>\n",
       "      <td>2020-06-30 06:00:00</td>\n",
       "      <td>1.977</td>\n",
       "      <td>1.5870</td>\n",
       "      <td>0.0000</td>\n",
       "      <td>0.390</td>\n",
       "    </tr>\n",
       "    <tr>\n",
       "      <th>4331</th>\n",
       "      <td>11</td>\n",
       "      <td>2020-06-30 11:00:00</td>\n",
       "      <td>2.121</td>\n",
       "      <td>0.1680</td>\n",
       "      <td>0.0000</td>\n",
       "      <td>1.953</td>\n",
       "    </tr>\n",
       "    <tr>\n",
       "      <th>4333</th>\n",
       "      <td>13</td>\n",
       "      <td>2020-06-30 13:00:00</td>\n",
       "      <td>2.295</td>\n",
       "      <td>0.2460</td>\n",
       "      <td>0.0000</td>\n",
       "      <td>2.049</td>\n",
       "    </tr>\n",
       "    <tr>\n",
       "      <th>4334</th>\n",
       "      <td>14</td>\n",
       "      <td>2020-06-30 14:00:00</td>\n",
       "      <td>2.862</td>\n",
       "      <td>0.1230</td>\n",
       "      <td>0.0000</td>\n",
       "      <td>2.739</td>\n",
       "    </tr>\n",
       "    <tr>\n",
       "      <th>4335</th>\n",
       "      <td>15</td>\n",
       "      <td>2020-06-30 15:00:00</td>\n",
       "      <td>1.656</td>\n",
       "      <td>0.4410</td>\n",
       "      <td>0.0000</td>\n",
       "      <td>1.215</td>\n",
       "    </tr>\n",
       "    <tr>\n",
       "      <th>4336</th>\n",
       "      <td>16</td>\n",
       "      <td>2020-06-30 16:00:00</td>\n",
       "      <td>1.971</td>\n",
       "      <td>0.5280</td>\n",
       "      <td>0.0000</td>\n",
       "      <td>1.443</td>\n",
       "    </tr>\n",
       "    <tr>\n",
       "      <th>4338</th>\n",
       "      <td>18</td>\n",
       "      <td>2020-06-30 18:00:00</td>\n",
       "      <td>0.210</td>\n",
       "      <td>1.2606</td>\n",
       "      <td>1.0506</td>\n",
       "      <td>0.000</td>\n",
       "    </tr>\n",
       "    <tr>\n",
       "      <th>4339</th>\n",
       "      <td>19</td>\n",
       "      <td>2020-06-30 19:00:00</td>\n",
       "      <td>0.054</td>\n",
       "      <td>1.9272</td>\n",
       "      <td>1.8732</td>\n",
       "      <td>0.000</td>\n",
       "    </tr>\n",
       "    <tr>\n",
       "      <th>4340</th>\n",
       "      <td>20</td>\n",
       "      <td>2020-06-30 20:00:00</td>\n",
       "      <td>0.000</td>\n",
       "      <td>2.8248</td>\n",
       "      <td>2.8248</td>\n",
       "      <td>0.000</td>\n",
       "    </tr>\n",
       "    <tr>\n",
       "      <th>4341</th>\n",
       "      <td>21</td>\n",
       "      <td>2020-06-30 21:00:00</td>\n",
       "      <td>0.006</td>\n",
       "      <td>1.2210</td>\n",
       "      <td>1.2150</td>\n",
       "      <td>0.000</td>\n",
       "    </tr>\n",
       "  </tbody>\n",
       "</table>\n",
       "</div>"
      ],
      "text/plain": [
       "      Hour     Date/hour start  Solar electricity generation (kWh)  \\\n",
       "4326     6 2020-06-30 06:00:00                               1.977   \n",
       "4331    11 2020-06-30 11:00:00                               2.121   \n",
       "4333    13 2020-06-30 13:00:00                               2.295   \n",
       "4334    14 2020-06-30 14:00:00                               2.862   \n",
       "4335    15 2020-06-30 15:00:00                               1.656   \n",
       "4336    16 2020-06-30 16:00:00                               1.971   \n",
       "4338    18 2020-06-30 18:00:00                               0.210   \n",
       "4339    19 2020-06-30 19:00:00                               0.054   \n",
       "4340    20 2020-06-30 20:00:00                               0.000   \n",
       "4341    21 2020-06-30 21:00:00                               0.006   \n",
       "\n",
       "      Electricity usage (kWh)  Electricity_bought  Excess_solar  \n",
       "4326                   1.5870              0.0000         0.390  \n",
       "4331                   0.1680              0.0000         1.953  \n",
       "4333                   0.2460              0.0000         2.049  \n",
       "4334                   0.1230              0.0000         2.739  \n",
       "4335                   0.4410              0.0000         1.215  \n",
       "4336                   0.5280              0.0000         1.443  \n",
       "4338                   1.2606              1.0506         0.000  \n",
       "4339                   1.9272              1.8732         0.000  \n",
       "4340                   2.8248              2.8248         0.000  \n",
       "4341                   1.2210              1.2150         0.000  "
      ]
     },
     "execution_count": 108,
     "metadata": {},
     "output_type": "execute_result"
    }
   ],
   "source": [
    "df['Excess_solar'] = np.maximum(0, df['Solar electricity generation (kWh)'] - df['Electricity usage (kWh)'])\n",
    "\n",
    "df[3230:3240]"
   ]
  },
  {
   "cell_type": "code",
   "execution_count": 109,
   "metadata": {},
   "outputs": [
    {
     "name": "stdout",
     "output_type": "stream",
     "text": [
      "total excess solar generated: 1405.101\n"
     ]
    }
   ],
   "source": [
    "total_excess_solar = df['Excess_solar'].sum()\n",
    "print(f\"total excess solar generated: {total_excess_solar}\")"
   ]
  },
  {
   "cell_type": "markdown",
   "metadata": {},
   "source": [
    "Wow! That is a lot of energy going to waste. The next question we would want to know the answer to is, over the lifespan of a solar panel battery, would the cost of the battery be mitigated by the savings made from money not being spent purchasing energy? We answer this by modelling a battery that saves excess solar energy generated every hour and compute if the money saved from electricity not bought justifies acquiring a battery over its lifespan."
   ]
  },
  {
   "cell_type": "markdown",
   "metadata": {},
   "source": [
    "Notice how in the last time we sliced through the data above, the slices did not match the indices displayed. Also, some hours are missing as they were excluded when we got rid of outliers. To remedy this and for easier modelling, we are going to reset the index."
   ]
  },
  {
   "cell_type": "code",
   "execution_count": 110,
   "metadata": {},
   "outputs": [],
   "source": [
    "df.reset_index(drop = True, inplace = True)"
   ]
  },
  {
   "cell_type": "code",
   "execution_count": 111,
   "metadata": {},
   "outputs": [],
   "source": [
    "# To model our battery, we iterated through the dataframe applying row-wise calculations and populated a list.\n",
    "battery_bar = []\n",
    "\n",
    "battery_charge = 0\n",
    "\n",
    "# Instance where the solar electricity generated exceeds the electricity consumption in that hour\n",
    "\n",
    "for i in range(len(df)):\n",
    "  if ((df['Solar electricity generation (kWh)'].iloc[i] - df['Electricity usage (kWh)'].iloc[i])>=0):\n",
    "     \n",
    "    # When updating the charge does not surpass the full charge\n",
    "\n",
    "     if ((df['Solar electricity generation (kWh)'].iloc[i] - df['Electricity usage (kWh)'].iloc[i]) + battery_charge) <= 12.5:\n",
    "      battery_charge += (df['Solar electricity generation (kWh)'].iloc[i] - df['Electricity usage (kWh)'].iloc[i])\n",
    "      battery_bar.append(battery_charge)\n",
    "\n",
    "    # When updating the charge would surpass the maximum charge available on our battery\n",
    "     elif(((df['Solar electricity generation (kWh)'].iloc[i] - df['Electricity usage (kWh)'].iloc[i]) + battery_charge) > 12.5):\n",
    "      battery_charge = 12.5\n",
    "      battery_bar.append(battery_charge)\n",
    "\n",
    "# Instance where the charge in our battery from hours prior exceeds the electricity consumed in the hour\n",
    "  elif battery_charge < (df['Electricity usage (kWh)'].iloc[i] - df['Solar electricity generation (kWh)'].iloc[i]):\n",
    "    battery_charge = 0\n",
    "    battery_bar.append(battery_charge)\n",
    "\n",
    "# Instance where electricity consumed in the hour exceeds solar generated electricity\n",
    "  elif df['Electricity usage (kWh)'].iloc[i] - df['Solar electricity generation (kWh)'].iloc[i] > 0:\n",
    "    battery_charge > (df['Electricity usage (kWh)'].iloc[i] - df['Solar electricity generation (kWh)'].iloc[i])\n",
    "    battery_charge -= (df['Electricity usage (kWh)'].iloc[i] - df['Solar electricity generation (kWh)'].iloc[i])\n",
    "    battery_bar.append(battery_charge)"
   ]
  },
  {
   "cell_type": "code",
   "execution_count": 112,
   "metadata": {},
   "outputs": [
    {
     "data": {
      "text/html": [
       "<div>\n",
       "<style scoped>\n",
       "    .dataframe tbody tr th:only-of-type {\n",
       "        vertical-align: middle;\n",
       "    }\n",
       "\n",
       "    .dataframe tbody tr th {\n",
       "        vertical-align: top;\n",
       "    }\n",
       "\n",
       "    .dataframe thead th {\n",
       "        text-align: right;\n",
       "    }\n",
       "</style>\n",
       "<table border=\"1\" class=\"dataframe\">\n",
       "  <thead>\n",
       "    <tr style=\"text-align: right;\">\n",
       "      <th></th>\n",
       "      <th>Hour</th>\n",
       "      <th>Date/hour start</th>\n",
       "      <th>Solar electricity generation (kWh)</th>\n",
       "      <th>Electricity usage (kWh)</th>\n",
       "      <th>Electricity_bought</th>\n",
       "      <th>Excess_solar</th>\n",
       "      <th>Battery</th>\n",
       "    </tr>\n",
       "  </thead>\n",
       "  <tbody>\n",
       "    <tr>\n",
       "      <th>3230</th>\n",
       "      <td>6</td>\n",
       "      <td>2020-06-30 06:00:00</td>\n",
       "      <td>1.977</td>\n",
       "      <td>1.5870</td>\n",
       "      <td>0.0000</td>\n",
       "      <td>0.390</td>\n",
       "      <td>0.8490</td>\n",
       "    </tr>\n",
       "    <tr>\n",
       "      <th>3231</th>\n",
       "      <td>11</td>\n",
       "      <td>2020-06-30 11:00:00</td>\n",
       "      <td>2.121</td>\n",
       "      <td>0.1680</td>\n",
       "      <td>0.0000</td>\n",
       "      <td>1.953</td>\n",
       "      <td>2.8020</td>\n",
       "    </tr>\n",
       "    <tr>\n",
       "      <th>3232</th>\n",
       "      <td>13</td>\n",
       "      <td>2020-06-30 13:00:00</td>\n",
       "      <td>2.295</td>\n",
       "      <td>0.2460</td>\n",
       "      <td>0.0000</td>\n",
       "      <td>2.049</td>\n",
       "      <td>4.8510</td>\n",
       "    </tr>\n",
       "    <tr>\n",
       "      <th>3233</th>\n",
       "      <td>14</td>\n",
       "      <td>2020-06-30 14:00:00</td>\n",
       "      <td>2.862</td>\n",
       "      <td>0.1230</td>\n",
       "      <td>0.0000</td>\n",
       "      <td>2.739</td>\n",
       "      <td>7.5900</td>\n",
       "    </tr>\n",
       "    <tr>\n",
       "      <th>3234</th>\n",
       "      <td>15</td>\n",
       "      <td>2020-06-30 15:00:00</td>\n",
       "      <td>1.656</td>\n",
       "      <td>0.4410</td>\n",
       "      <td>0.0000</td>\n",
       "      <td>1.215</td>\n",
       "      <td>8.8050</td>\n",
       "    </tr>\n",
       "    <tr>\n",
       "      <th>3235</th>\n",
       "      <td>16</td>\n",
       "      <td>2020-06-30 16:00:00</td>\n",
       "      <td>1.971</td>\n",
       "      <td>0.5280</td>\n",
       "      <td>0.0000</td>\n",
       "      <td>1.443</td>\n",
       "      <td>10.2480</td>\n",
       "    </tr>\n",
       "    <tr>\n",
       "      <th>3236</th>\n",
       "      <td>18</td>\n",
       "      <td>2020-06-30 18:00:00</td>\n",
       "      <td>0.210</td>\n",
       "      <td>1.2606</td>\n",
       "      <td>1.0506</td>\n",
       "      <td>0.000</td>\n",
       "      <td>9.1974</td>\n",
       "    </tr>\n",
       "    <tr>\n",
       "      <th>3237</th>\n",
       "      <td>19</td>\n",
       "      <td>2020-06-30 19:00:00</td>\n",
       "      <td>0.054</td>\n",
       "      <td>1.9272</td>\n",
       "      <td>1.8732</td>\n",
       "      <td>0.000</td>\n",
       "      <td>7.3242</td>\n",
       "    </tr>\n",
       "    <tr>\n",
       "      <th>3238</th>\n",
       "      <td>20</td>\n",
       "      <td>2020-06-30 20:00:00</td>\n",
       "      <td>0.000</td>\n",
       "      <td>2.8248</td>\n",
       "      <td>2.8248</td>\n",
       "      <td>0.000</td>\n",
       "      <td>4.4994</td>\n",
       "    </tr>\n",
       "    <tr>\n",
       "      <th>3239</th>\n",
       "      <td>21</td>\n",
       "      <td>2020-06-30 21:00:00</td>\n",
       "      <td>0.006</td>\n",
       "      <td>1.2210</td>\n",
       "      <td>1.2150</td>\n",
       "      <td>0.000</td>\n",
       "      <td>3.2844</td>\n",
       "    </tr>\n",
       "  </tbody>\n",
       "</table>\n",
       "</div>"
      ],
      "text/plain": [
       "      Hour     Date/hour start  Solar electricity generation (kWh)  \\\n",
       "3230     6 2020-06-30 06:00:00                               1.977   \n",
       "3231    11 2020-06-30 11:00:00                               2.121   \n",
       "3232    13 2020-06-30 13:00:00                               2.295   \n",
       "3233    14 2020-06-30 14:00:00                               2.862   \n",
       "3234    15 2020-06-30 15:00:00                               1.656   \n",
       "3235    16 2020-06-30 16:00:00                               1.971   \n",
       "3236    18 2020-06-30 18:00:00                               0.210   \n",
       "3237    19 2020-06-30 19:00:00                               0.054   \n",
       "3238    20 2020-06-30 20:00:00                               0.000   \n",
       "3239    21 2020-06-30 21:00:00                               0.006   \n",
       "\n",
       "      Electricity usage (kWh)  Electricity_bought  Excess_solar  Battery  \n",
       "3230                   1.5870              0.0000         0.390   0.8490  \n",
       "3231                   0.1680              0.0000         1.953   2.8020  \n",
       "3232                   0.2460              0.0000         2.049   4.8510  \n",
       "3233                   0.1230              0.0000         2.739   7.5900  \n",
       "3234                   0.4410              0.0000         1.215   8.8050  \n",
       "3235                   0.5280              0.0000         1.443  10.2480  \n",
       "3236                   1.2606              1.0506         0.000   9.1974  \n",
       "3237                   1.9272              1.8732         0.000   7.3242  \n",
       "3238                   2.8248              2.8248         0.000   4.4994  \n",
       "3239                   1.2210              1.2150         0.000   3.2844  "
      ]
     },
     "execution_count": 112,
     "metadata": {},
     "output_type": "execute_result"
    }
   ],
   "source": [
    "df['Battery'] = battery_bar\n",
    "\n",
    "#Illustrating using the previous slice\n",
    "df[3230:3240]"
   ]
  },
  {
   "cell_type": "code",
   "execution_count": 113,
   "metadata": {},
   "outputs": [
    {
     "name": "stdout",
     "output_type": "stream",
     "text": [
      "12.5\n"
     ]
    },
    {
     "data": {
      "text/html": [
       "<div>\n",
       "<style scoped>\n",
       "    .dataframe tbody tr th:only-of-type {\n",
       "        vertical-align: middle;\n",
       "    }\n",
       "\n",
       "    .dataframe tbody tr th {\n",
       "        vertical-align: top;\n",
       "    }\n",
       "\n",
       "    .dataframe thead th {\n",
       "        text-align: right;\n",
       "    }\n",
       "</style>\n",
       "<table border=\"1\" class=\"dataframe\">\n",
       "  <thead>\n",
       "    <tr style=\"text-align: right;\">\n",
       "      <th></th>\n",
       "      <th>Hour</th>\n",
       "      <th>Date/hour start</th>\n",
       "      <th>Solar electricity generation (kWh)</th>\n",
       "      <th>Electricity usage (kWh)</th>\n",
       "      <th>Electricity_bought</th>\n",
       "      <th>Excess_solar</th>\n",
       "      <th>Battery</th>\n",
       "    </tr>\n",
       "  </thead>\n",
       "  <tbody>\n",
       "    <tr>\n",
       "      <th>2745</th>\n",
       "      <td>6</td>\n",
       "      <td>2020-05-31 06:00:00</td>\n",
       "      <td>2.208</td>\n",
       "      <td>0.252</td>\n",
       "      <td>0.000</td>\n",
       "      <td>1.956</td>\n",
       "      <td>5.212165</td>\n",
       "    </tr>\n",
       "    <tr>\n",
       "      <th>2746</th>\n",
       "      <td>7</td>\n",
       "      <td>2020-05-31 07:00:00</td>\n",
       "      <td>2.505</td>\n",
       "      <td>0.387</td>\n",
       "      <td>0.000</td>\n",
       "      <td>2.118</td>\n",
       "      <td>7.330165</td>\n",
       "    </tr>\n",
       "    <tr>\n",
       "      <th>2747</th>\n",
       "      <td>11</td>\n",
       "      <td>2020-05-31 11:00:00</td>\n",
       "      <td>2.844</td>\n",
       "      <td>0.507</td>\n",
       "      <td>0.000</td>\n",
       "      <td>2.337</td>\n",
       "      <td>9.667165</td>\n",
       "    </tr>\n",
       "    <tr>\n",
       "      <th>2748</th>\n",
       "      <td>12</td>\n",
       "      <td>2020-05-31 12:00:00</td>\n",
       "      <td>2.160</td>\n",
       "      <td>0.516</td>\n",
       "      <td>0.000</td>\n",
       "      <td>1.644</td>\n",
       "      <td>11.311165</td>\n",
       "    </tr>\n",
       "    <tr>\n",
       "      <th>2749</th>\n",
       "      <td>13</td>\n",
       "      <td>2020-05-31 13:00:00</td>\n",
       "      <td>2.379</td>\n",
       "      <td>0.123</td>\n",
       "      <td>0.000</td>\n",
       "      <td>2.256</td>\n",
       "      <td>12.500000</td>\n",
       "    </tr>\n",
       "    <tr>\n",
       "      <th>2750</th>\n",
       "      <td>15</td>\n",
       "      <td>2020-05-31 15:00:00</td>\n",
       "      <td>2.670</td>\n",
       "      <td>0.405</td>\n",
       "      <td>0.000</td>\n",
       "      <td>2.265</td>\n",
       "      <td>12.500000</td>\n",
       "    </tr>\n",
       "    <tr>\n",
       "      <th>2751</th>\n",
       "      <td>16</td>\n",
       "      <td>2020-05-31 16:00:00</td>\n",
       "      <td>1.872</td>\n",
       "      <td>0.438</td>\n",
       "      <td>0.000</td>\n",
       "      <td>1.434</td>\n",
       "      <td>12.500000</td>\n",
       "    </tr>\n",
       "    <tr>\n",
       "      <th>2752</th>\n",
       "      <td>17</td>\n",
       "      <td>2020-05-31 17:00:00</td>\n",
       "      <td>0.597</td>\n",
       "      <td>0.372</td>\n",
       "      <td>0.000</td>\n",
       "      <td>0.225</td>\n",
       "      <td>12.500000</td>\n",
       "    </tr>\n",
       "    <tr>\n",
       "      <th>2753</th>\n",
       "      <td>18</td>\n",
       "      <td>2020-05-31 18:00:00</td>\n",
       "      <td>0.273</td>\n",
       "      <td>0.528</td>\n",
       "      <td>0.255</td>\n",
       "      <td>0.000</td>\n",
       "      <td>12.245000</td>\n",
       "    </tr>\n",
       "  </tbody>\n",
       "</table>\n",
       "</div>"
      ],
      "text/plain": [
       "      Hour     Date/hour start  Solar electricity generation (kWh)  \\\n",
       "2745     6 2020-05-31 06:00:00                               2.208   \n",
       "2746     7 2020-05-31 07:00:00                               2.505   \n",
       "2747    11 2020-05-31 11:00:00                               2.844   \n",
       "2748    12 2020-05-31 12:00:00                               2.160   \n",
       "2749    13 2020-05-31 13:00:00                               2.379   \n",
       "2750    15 2020-05-31 15:00:00                               2.670   \n",
       "2751    16 2020-05-31 16:00:00                               1.872   \n",
       "2752    17 2020-05-31 17:00:00                               0.597   \n",
       "2753    18 2020-05-31 18:00:00                               0.273   \n",
       "\n",
       "      Electricity usage (kWh)  Electricity_bought  Excess_solar    Battery  \n",
       "2745                    0.252               0.000         1.956   5.212165  \n",
       "2746                    0.387               0.000         2.118   7.330165  \n",
       "2747                    0.507               0.000         2.337   9.667165  \n",
       "2748                    0.516               0.000         1.644  11.311165  \n",
       "2749                    0.123               0.000         2.256  12.500000  \n",
       "2750                    0.405               0.000         2.265  12.500000  \n",
       "2751                    0.438               0.000         1.434  12.500000  \n",
       "2752                    0.372               0.000         0.225  12.500000  \n",
       "2753                    0.528               0.255         0.000  12.245000  "
      ]
     },
     "execution_count": 113,
     "metadata": {},
     "output_type": "execute_result"
    }
   ],
   "source": [
    "# Checking that our battery does not go beyond the capacity of 12.5\n",
    "print(df['Battery'].max())\n",
    "\n",
    "# df[df['Battery']==12.5].index\n",
    "\n",
    "# Illustrating instance where battery reaches maximum capacity but there is still excess solar\n",
    "df[2745:2754]"
   ]
  },
  {
   "cell_type": "markdown",
   "metadata": {},
   "source": [
    "Our column Electricity_bought can now be considered redundant as we are now interested in the electricity bought with a battery installed. "
   ]
  },
  {
   "cell_type": "code",
   "execution_count": 114,
   "metadata": {},
   "outputs": [
    {
     "data": {
      "text/html": [
       "<div>\n",
       "<style scoped>\n",
       "    .dataframe tbody tr th:only-of-type {\n",
       "        vertical-align: middle;\n",
       "    }\n",
       "\n",
       "    .dataframe tbody tr th {\n",
       "        vertical-align: top;\n",
       "    }\n",
       "\n",
       "    .dataframe thead th {\n",
       "        text-align: right;\n",
       "    }\n",
       "</style>\n",
       "<table border=\"1\" class=\"dataframe\">\n",
       "  <thead>\n",
       "    <tr style=\"text-align: right;\">\n",
       "      <th></th>\n",
       "      <th>Hour</th>\n",
       "      <th>Date/hour start</th>\n",
       "      <th>Solar electricity generation (kWh)</th>\n",
       "      <th>Electricity usage (kWh)</th>\n",
       "      <th>Electricity_bought_without_battery</th>\n",
       "      <th>Excess_solar</th>\n",
       "      <th>Battery</th>\n",
       "      <th>Electricity_bought_with_battery</th>\n",
       "    </tr>\n",
       "  </thead>\n",
       "  <tbody>\n",
       "    <tr>\n",
       "      <th>3230</th>\n",
       "      <td>6</td>\n",
       "      <td>2020-06-30 06:00:00</td>\n",
       "      <td>1.977</td>\n",
       "      <td>1.5870</td>\n",
       "      <td>0.0000</td>\n",
       "      <td>0.390</td>\n",
       "      <td>0.8490</td>\n",
       "      <td>0.0</td>\n",
       "    </tr>\n",
       "    <tr>\n",
       "      <th>3231</th>\n",
       "      <td>11</td>\n",
       "      <td>2020-06-30 11:00:00</td>\n",
       "      <td>2.121</td>\n",
       "      <td>0.1680</td>\n",
       "      <td>0.0000</td>\n",
       "      <td>1.953</td>\n",
       "      <td>2.8020</td>\n",
       "      <td>0.0</td>\n",
       "    </tr>\n",
       "    <tr>\n",
       "      <th>3232</th>\n",
       "      <td>13</td>\n",
       "      <td>2020-06-30 13:00:00</td>\n",
       "      <td>2.295</td>\n",
       "      <td>0.2460</td>\n",
       "      <td>0.0000</td>\n",
       "      <td>2.049</td>\n",
       "      <td>4.8510</td>\n",
       "      <td>0.0</td>\n",
       "    </tr>\n",
       "    <tr>\n",
       "      <th>3233</th>\n",
       "      <td>14</td>\n",
       "      <td>2020-06-30 14:00:00</td>\n",
       "      <td>2.862</td>\n",
       "      <td>0.1230</td>\n",
       "      <td>0.0000</td>\n",
       "      <td>2.739</td>\n",
       "      <td>7.5900</td>\n",
       "      <td>0.0</td>\n",
       "    </tr>\n",
       "    <tr>\n",
       "      <th>3234</th>\n",
       "      <td>15</td>\n",
       "      <td>2020-06-30 15:00:00</td>\n",
       "      <td>1.656</td>\n",
       "      <td>0.4410</td>\n",
       "      <td>0.0000</td>\n",
       "      <td>1.215</td>\n",
       "      <td>8.8050</td>\n",
       "      <td>0.0</td>\n",
       "    </tr>\n",
       "    <tr>\n",
       "      <th>3235</th>\n",
       "      <td>16</td>\n",
       "      <td>2020-06-30 16:00:00</td>\n",
       "      <td>1.971</td>\n",
       "      <td>0.5280</td>\n",
       "      <td>0.0000</td>\n",
       "      <td>1.443</td>\n",
       "      <td>10.2480</td>\n",
       "      <td>0.0</td>\n",
       "    </tr>\n",
       "    <tr>\n",
       "      <th>3236</th>\n",
       "      <td>18</td>\n",
       "      <td>2020-06-30 18:00:00</td>\n",
       "      <td>0.210</td>\n",
       "      <td>1.2606</td>\n",
       "      <td>1.0506</td>\n",
       "      <td>0.000</td>\n",
       "      <td>9.1974</td>\n",
       "      <td>0.0</td>\n",
       "    </tr>\n",
       "    <tr>\n",
       "      <th>3237</th>\n",
       "      <td>19</td>\n",
       "      <td>2020-06-30 19:00:00</td>\n",
       "      <td>0.054</td>\n",
       "      <td>1.9272</td>\n",
       "      <td>1.8732</td>\n",
       "      <td>0.000</td>\n",
       "      <td>7.3242</td>\n",
       "      <td>0.0</td>\n",
       "    </tr>\n",
       "    <tr>\n",
       "      <th>3238</th>\n",
       "      <td>20</td>\n",
       "      <td>2020-06-30 20:00:00</td>\n",
       "      <td>0.000</td>\n",
       "      <td>2.8248</td>\n",
       "      <td>2.8248</td>\n",
       "      <td>0.000</td>\n",
       "      <td>4.4994</td>\n",
       "      <td>0.0</td>\n",
       "    </tr>\n",
       "    <tr>\n",
       "      <th>3239</th>\n",
       "      <td>21</td>\n",
       "      <td>2020-06-30 21:00:00</td>\n",
       "      <td>0.006</td>\n",
       "      <td>1.2210</td>\n",
       "      <td>1.2150</td>\n",
       "      <td>0.000</td>\n",
       "      <td>3.2844</td>\n",
       "      <td>0.0</td>\n",
       "    </tr>\n",
       "  </tbody>\n",
       "</table>\n",
       "</div>"
      ],
      "text/plain": [
       "      Hour     Date/hour start  Solar electricity generation (kWh)  \\\n",
       "3230     6 2020-06-30 06:00:00                               1.977   \n",
       "3231    11 2020-06-30 11:00:00                               2.121   \n",
       "3232    13 2020-06-30 13:00:00                               2.295   \n",
       "3233    14 2020-06-30 14:00:00                               2.862   \n",
       "3234    15 2020-06-30 15:00:00                               1.656   \n",
       "3235    16 2020-06-30 16:00:00                               1.971   \n",
       "3236    18 2020-06-30 18:00:00                               0.210   \n",
       "3237    19 2020-06-30 19:00:00                               0.054   \n",
       "3238    20 2020-06-30 20:00:00                               0.000   \n",
       "3239    21 2020-06-30 21:00:00                               0.006   \n",
       "\n",
       "      Electricity usage (kWh)  Electricity_bought_without_battery  \\\n",
       "3230                   1.5870                              0.0000   \n",
       "3231                   0.1680                              0.0000   \n",
       "3232                   0.2460                              0.0000   \n",
       "3233                   0.1230                              0.0000   \n",
       "3234                   0.4410                              0.0000   \n",
       "3235                   0.5280                              0.0000   \n",
       "3236                   1.2606                              1.0506   \n",
       "3237                   1.9272                              1.8732   \n",
       "3238                   2.8248                              2.8248   \n",
       "3239                   1.2210                              1.2150   \n",
       "\n",
       "      Excess_solar  Battery  Electricity_bought_with_battery  \n",
       "3230         0.390   0.8490                              0.0  \n",
       "3231         1.953   2.8020                              0.0  \n",
       "3232         2.049   4.8510                              0.0  \n",
       "3233         2.739   7.5900                              0.0  \n",
       "3234         1.215   8.8050                              0.0  \n",
       "3235         1.443  10.2480                              0.0  \n",
       "3236         0.000   9.1974                              0.0  \n",
       "3237         0.000   7.3242                              0.0  \n",
       "3238         0.000   4.4994                              0.0  \n",
       "3239         0.000   3.2844                              0.0  "
      ]
     },
     "execution_count": 114,
     "metadata": {},
     "output_type": "execute_result"
    }
   ],
   "source": [
    "# Calculating the electricity bought with a battery installed\n",
    "df['Electricity_bought_with_battery'] = np.maximum(0,(df['Electricity usage (kWh)'] -\n",
    "                                                    (df['Solar electricity generation (kWh)'] + df['Battery'].shift(1))))\n",
    "\n",
    "# Rename column for easier identification\n",
    "df.rename(columns = {'Electricity_bought': 'Electricity_bought_without_battery'}, inplace = True)\n",
    "\n",
    "df[3230:3240]"
   ]
  },
  {
   "cell_type": "code",
   "execution_count": 115,
   "metadata": {},
   "outputs": [
    {
     "name": "stdout",
     "output_type": "stream",
     "text": [
      "Approx costs saved in one year: $237.1732733060001\n"
     ]
    }
   ],
   "source": [
    "# Calculating costs saved if we assume cost per unit is $0.17\n",
    "costs_saved = (df['Electricity_bought_without_battery'].sum() - df['Electricity_bought_with_battery'].sum()) * 0.17\n",
    "\n",
    "print(f\"Approx costs saved in one year: ${costs_saved}\")"
   ]
  },
  {
   "cell_type": "code",
   "execution_count": 116,
   "metadata": {},
   "outputs": [
    {
     "data": {
      "text/plain": [
       "<matplotlib.legend.Legend at 0x292634cb710>"
      ]
     },
     "execution_count": 116,
     "metadata": {},
     "output_type": "execute_result"
    },
    {
     "data": {
      "image/png": "[encoded data removed]",
      "text/plain": [
       "<Figure size 640x480 with 1 Axes>"
      ]
     },
     "metadata": {},
     "output_type": "display_data"
    }
   ],
   "source": [
    "# Reobtaining month column for visualisation\n",
    "df['Date/hour start'] = pd.to_datetime(df['Date/hour start'])\n",
    "df['month'] = pd.DatetimeIndex(df['Date/hour start']).month\n",
    "\n",
    "df.groupby('month')['Electricity_bought_without_battery'].mean().plot(kind = 'bar', color = 'C1', label = 'without battery')\n",
    "df.groupby('month')['Electricity_bought_with_battery'].mean().plot(kind = 'bar', color = 'C0', label = 'with_battery')\n",
    "\n",
    "plt.title('Savings across the year')\n",
    "plt.xticks(rotation = 0)\n",
    "plt.xlabel('Month')\n",
    "plt.ylabel('Average kWh bought')\n",
    "\n",
    "plt.legend()"
   ]
  },
  {
   "cell_type": "markdown",
   "metadata": {},
   "source": [
    "With this analysis, one can estimate whether the annual savings over the lifespan of the battery are worth the cost, as well as the best time of year to purchase one for the best value for money."
   ]
  },
  {
   "cell_type": "code",
   "execution_count": null,
   "metadata": {},
   "outputs": [],
   "source": []
  }
 ],
 "metadata": {
  "kernelspec": {
   "display_name": "Python 3",
   "language": "python",
   "name": "python3"
  },
  "language_info": {
   "codemirror_mode": {
    "name": "ipython",
    "version": 3
   },
   "file_extension": ".py",
   "mimetype": "text/x-python",
   "name": "python",
   "nbconvert_exporter": "python",
   "pygments_lexer": "ipython3",
   "version": "3.11.4"
  }
 },
 "nbformat": 4,
 "nbformat_minor": 2
}
